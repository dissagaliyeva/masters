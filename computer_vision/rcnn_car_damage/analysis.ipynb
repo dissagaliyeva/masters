{
 "cells": [
  {
   "cell_type": "markdown",
   "metadata": {},
   "source": [
    "# Mask R-CNN for detecting car damage\n",
    "\n",
    "### Table of content\n",
    "\n",
    "1. Use case description\n",
    "2. Data\n",
    "3. Model\n",
    "4. Training\n",
    "5. Accuracy\n",
    "6. Results"
   ]
  },
  {
   "cell_type": "markdown",
   "metadata": {},
   "source": [
    "### Use case description\n",
    "\n",
    "Mask R-CNN is an instance segmentation where each individual object is separated and identified; this approach incldues finding the bounding boxes of each object and assignment of the unique label to the identified objects [1]. The model is trained on COCO dataset which is a large-scale object detection, segmentation, and captioning dataset including 80 categories, 1,500,000 object instances, and over 330,000 images [2]. \n",
    "\n",
    "The goal of this notebook is to explore the Mask R-CNN model to detect car damage areas. The underlying rationale for this model development resides in its potential utility within the insurance industry, wherein expedited claims processing can be facilitated through the integration of user-uploaded images, thereby enabling damage assessment. Additionally, the model exhibits relevance to financial institutions, particularly when engaged in the underwriting of automotive loans, with a specific focus on pre-owned vehicles."
   ]
  },
  {
   "cell_type": "code",
   "execution_count": null,
   "metadata": {},
   "outputs": [],
   "source": []
  },
  {
   "cell_type": "markdown",
   "metadata": {},
   "source": [
    "#### References\n",
    "\n",
    "[1] He, K., Gkioxari, G., Dollár, P., & Girshick, R. (2017). Mask r-cnn. In *Proceedings of the IEEE international conference on computer vision* (pp. 2961-2969).\n",
    "\n",
    "[2] Lin, T. Y., Maire, M., Belongie, S., Hays, J., Perona, P., Ramanan, D., ... & Zitnick, C. L. (2014). Microsoft coco: Common objects in context. In *Computer Vision–ECCV 2014: 13th European Conference, Zurich, Switzerland, September 6-12, 2014, Proceedings, Part V 13* (pp. 740-755). Springer International Publishing."
   ]
  },
  {
   "cell_type": "markdown",
   "metadata": {},
   "source": []
  }
 ],
 "metadata": {
  "language_info": {
   "name": "python"
  },
  "orig_nbformat": 4
 },
 "nbformat": 4,
 "nbformat_minor": 2
}
